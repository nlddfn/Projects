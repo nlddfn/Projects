{
 "cells": [
  {
   "cell_type": "markdown",
   "metadata": {
    "nbpresent": {
     "id": "e71fce56-6a23-4ac7-9eaf-27d9b62be586"
    },
    "slideshow": {
     "slide_type": "slide"
    }
   },
   "source": [
    "# Webscraping Glassdoor.com: Will I ever find a job?\n"
   ]
  },
  {
   "cell_type": "markdown",
   "metadata": {
    "nbpresent": {
     "id": "8dc217b3-b017-4e01-90e0-fc76632fa77a"
    },
    "slideshow": {
     "slide_type": "slide"
    }
   },
   "source": [
    "The project, in a nutshell:\n",
    "- Creating a webdriver for Glassdoor;\n",
    "- Gathering job post containing:\n",
    " - Company, location, rating, url;\n",
    " - Job description; \n",
    "- Parsing the data into a dictionary, according to a number of relevant categories;\n",
    "- Gathering analytics for Data Scientist market in US; \n",
    "- Measuring the \"similarity\" between a job post and a \"simplified\" resume'."
   ]
  },
  {
   "cell_type": "code",
   "execution_count": 1,
   "metadata": {
    "collapsed": false,
    "slideshow": {
     "slide_type": "skip"
    }
   },
   "outputs": [
    {
     "name": "stderr",
     "output_type": "stream",
     "text": [
      "/Users/Diego/anaconda/lib/python2.7/site-packages/matplotlib/font_manager.py:273: UserWarning: Matplotlib is building the font cache using fc-list. This may take a moment.\n",
      "  warnings.warn('Matplotlib is building the font cache using fc-list. This may take a moment.')\n"
     ]
    },
    {
     "data": {
      "text/html": [
       "<script>requirejs.config({paths: { 'plotly': ['https://cdn.plot.ly/plotly-latest.min']},});if(!window.Plotly) {{require(['plotly'],function(plotly) {window.Plotly=plotly;});}}</script>"
      ],
      "text/plain": [
       "<IPython.core.display.HTML object>"
      ]
     },
     "metadata": {},
     "output_type": "display_data"
    }
   ],
   "source": [
    "# Load libraries\n",
    "%matplotlib inline\n",
    "from plotly.graph_objs import Scatter, Layout\n",
    "from plotly.offline import download_plotlyjs, init_notebook_mode, plot, iplot\n",
    "from plotly.graph_objs import Bar, Scatter, Figure, Layout\n",
    "import pandas as pd # For converting results to a dataframe and bar chart plots\n",
    "import numpy as np\n",
    "import pickle\n",
    "from IPython.core.display import HTML\n",
    "\n",
    "# load helper\n",
    "from helperP3 import *\n",
    "\n",
    "init_notebook_mode(connected=True)"
   ]
  },
  {
   "cell_type": "code",
   "execution_count": 2,
   "metadata": {
    "collapsed": false,
    "slideshow": {
     "slide_type": "skip"
    }
   },
   "outputs": [],
   "source": [
    "# load data\n",
    "jobDict = load_obj('glassDoorDict')\n",
    "# 6- Analytics:  First check for consistency\n",
    "    \n",
    "completeDict = dict(filter(lambda x,: len(x[1]) == 6, jobDict.items()))   \n",
    "        \n",
    "finalDict = dict(map(lambda (x,y): (x, y[0:5] + [skills_info([y[0]]+y[5])]), completeDict.items()))"
   ]
  },
  {
   "cell_type": "code",
   "execution_count": 3,
   "metadata": {
    "collapsed": false,
    "slideshow": {
     "slide_type": "skip"
    }
   },
   "outputs": [],
   "source": [
    "# Calculate top locations  \n",
    "    \n",
    "location_dict = Counter()\n",
    "location_dict.update([finalDict[item][3] for item in finalDict.keys()])    \n",
    "location_frame = pd.DataFrame(location_dict.items(), columns = ['Term', 'NumPostings'])\\\n",
    "                 .sort_values(by='NumPostings', ascending = False).head(10)\n",
    "\n",
    "\n"
   ]
  },
  {
   "cell_type": "code",
   "execution_count": 6,
   "metadata": {
    "collapsed": false,
    "nbpresent": {
     "id": "88a4e5ca-53ba-4773-bae8-0c49b9dec759"
    },
    "slideshow": {
     "slide_type": "slide"
    }
   },
   "outputs": [
    {
     "data": {
      "text/html": [
       "<div id=\"64bddcce-58d8-4d07-8168-4bad729b8573\" style=\"height: 525px; width: 100%;\" class=\"plotly-graph-div\"></div><script type=\"text/javascript\">require([\"plotly\"], function(Plotly) { window.PLOTLYENV=window.PLOTLYENV || {};window.PLOTLYENV.BASE_URL=\"https://plot.ly\";Plotly.newPlot(\"64bddcce-58d8-4d07-8168-4bad729b8573\", [{\"y\": [146, 136, 36, 31, 24, 18, 18, 16, 14, 14], \"x\": [\"San Francisco, CA\", \"New York, NY\", \"Boston, MA\", \"Palo Alto, CA\", \"Mountain View, CA\", \"Dearborn, MI\", \"Los Angeles, CA\", \"Chicago, IL\", \"San Ramon, CA\", \"Cambridge, MA\"], \"type\": \"bar\"}], {\"yaxis\": {\"title\": \"Number of posts\"}, \"title\": \"Top 10 cities in US\"}, {\"linkText\": \"Export to plot.ly\", \"showLink\": true})});</script>"
      ],
      "text/plain": [
       "<IPython.core.display.HTML object>"
      ]
     },
     "metadata": {},
     "output_type": "display_data"
    }
   ],
   "source": [
    "data = [Bar(\n",
    "            x=location_frame.Term,\n",
    "            y=location_frame.NumPostings\n",
    "    )]\n",
    "layout = Layout(yaxis = dict(title = \"Number of posts\"), title = 'Top 10 cities in US')\n",
    "fig = Figure(data=data, layout=layout)\n",
    "iplot(fig,filename='basic-bar')"
   ]
  },
  {
   "cell_type": "code",
   "execution_count": 7,
   "metadata": {
    "collapsed": false,
    "slideshow": {
     "slide_type": "skip"
    }
   },
   "outputs": [],
   "source": [
    "# Calculate top companies - (company, rating) , Num posting\n",
    "        \n",
    "company_dict = Counter()\n",
    "company_dict.update([(finalDict[item][2],finalDict[item][1]) for item in finalDict.keys()])\n",
    "company_frame = pd.DataFrame(company_dict.items(), columns = ['Term', 'NumPostings'])\\\n",
    "                  .sort_values(by='NumPostings', ascending = False).head(20)\n",
    "\n",
    "tmp = pd.DataFrame(company_dict.keys(),columns = ['Company','Rating'])\\\n",
    "                        .sort_values(by='Rating', ascending = False).head(20)\n",
    "\n",
    "\n",
    "company, company_rating = zip(*company_dict.keys())"
   ]
  },
  {
   "cell_type": "code",
   "execution_count": 8,
   "metadata": {
    "collapsed": false,
    "nbpresent": {
     "id": "c39a77ca-416d-4a8f-8bc9-a379d87c7ba5"
    },
    "slideshow": {
     "slide_type": "slide"
    }
   },
   "outputs": [
    {
     "data": {
      "text/html": [
       "<div id=\"85a894d5-c383-4800-80a9-647c9f3d1328\" style=\"height: 525px; width: 100%;\" class=\"plotly-graph-div\"></div><script type=\"text/javascript\">require([\"plotly\"], function(Plotly) { window.PLOTLYENV=window.PLOTLYENV || {};window.PLOTLYENV.BASE_URL=\"https://plot.ly\";Plotly.newPlot(\"85a894d5-c383-4800-80a9-647c9f3d1328\", [{\"y\": [24, 14, 9, 7, 7, 7, 6, 6, 5, 5, 5, 5, 5, 5, 4, 4, 4, 4, 4, 4], \"x\": [\"University of Maryland\", \"Alcatel Lucent\", \"Memorial Sloan-Kettering\", \"New York, NY\", \"Rockstar Games\", \"Seagate Technology\", \"2.0\", \"BlueSkyClarity\", \"Treasure Data\", \"Altimetrik\", \"Cyret Technologies Inc\", \"4.7\", \"AdTheorent\", \"Galileo International\", \"Demandbase\", \"DataRobot\", \"3.5\", \"Intel\", \"A9\", \"Cargill Meat Solutions\", \"Pinterest\", \"Absolute Opportunities\", \"Via Transportation (New York)\", \"Brillio\", \"Pixability\", \"Johnson & Johnson\", \"New York Life\", \"Workday\", \"Boxed\", \"Main Street Hub\", \"Medidata Solutions\", \"Rapid Global Business Solutions, Inc\", \"YuMe\", \"Thumbtack\", \"M-I SWACO\", \"Market Force\", \"Optymyze\", \"3.0\", \"Instacart\", \"LYFT\", \"Adelphic Mobile\", \"KPMG US\", \"Feedzai\", \"VivaKi\", \"Truth Initiative\", \"FusionOps Inc\", \"Aetna Inc.\", \"InfoScout\", \"Northrop Grumman\", \"Coverent\", \"Noblis\", \"LinkedIn\", \"S&P Global Ratings\", \"2.9\", \"Ciber\", \"Ruckus Wireless\", \"MasterClass\", \"Lattice Engines\", \"OwnerIQ\", \"TJX\", \"Goldman Sachs\", \"BRMi\", \"Altair\", \"MZ\", \"Schlumberger Ltd.\", \"Shuchi Rana Sandbox\", \"Via\", \"CyberPoint International\", \"Predixion Software, Inc.\", \"automotiveMastermind Inc.\", \"Aquent\", \"Logentries\", \"Precima\", \"LendUp\", \"Affiliated Computer Services\", \"Rover.com\", \"AdRoll\", \"San Jose, CA\", \"TJX Companies\", \"HUNTER Technical Resources\", \"Swagelok\", \"Celgene Corporation\", \"University of Southern California\", \"Datadog\", \"Adobe\", \"Open Systems Technologies (NYC)\", \"Markit\", \"SunAmerica Affordable Housing Partners\", \"Roberts Recruiting\", \"DataScience\", \"Slalom LLC.\", \"Signature Consultants\", \"Memorial Sloan-Kettering Cancer Center\", \"CALIBRE\", \"Central Pacific Bank\", \"applecart\", \"ReferralMob, Inc.\", \"University of California, Los Angeles - Academic R\", \"Integral\", \"Selby Jennings Technology\", \"Lexington Solutions Group\", \"Two Sigma\", \"Stryker\", \"OptionsHouse\", \"Stanford University\", \"Zynga\", \"Wellcare\", \"MATRiX ANALYTiCS CORPORATION\", \"Hire Level Search Group\", \"3.0\", \"Spotlight Capital Management\", \"Foliage\", \"Galvanize\", \"Home Depot\", \"Nextdoor\", \"OpenMail\", \"ActiveHealth Management\", \"Cotiviti\", \"Millennial Media\", \"Collective Health\", \"Teradata\", \"Avis Budget Group\", \"Cognizant\", \"Cylance\", \"University of Notre Dame\", \"Progressive Insurance\", \"TheLadders\", \"Cisco Systems, Inc.\", \"Rise Interactive\", \"Noodle Education Inc.\", \"Shazam Entertainment\", \"Synova\", \"Capital One Services, Llc\", \"TripAdvisor\", \"Natera\", \"BuzzFeed\", \"BryceNet, Inc.\", \"Circle\", \"Datascope\", \"Thomson Reuters\", \"Yahoo!\", \"Kinsa Health\", \"Birchbox\", \"Avanade\", \"McKinsey & Company\", \"Movencorp, Inc.\", \"Altamira Technologies\", \"Pardot\", \"OROS Technical\", \"JPMorgan Chase & Co.\", \"Degreed\", \"Cypress HCM\", \"Move, Inc.\", \"Hitachi\", \"Risk Management Solutions (RMS)\", \"Fitbit\", \"Band-It\", \"4.4\", \"Honeywell\", \"Enigma\", \"$15 Bn I T Transformational Leader\", \"Privia Health, LLC\", \"Bugcrowd\", \"Reach Analytics\", \"Lyft\", \"Amazon.com\", \"athenahealth\", \"Compel Systems\", \"GE Aviation\", \"Ambit Group LLC\", \"GoDaddy\", \"Tubular Labs\", \"UltraSmart\", \"Lumosity\", \"Progressive Technology Solutions\", \"Starr Companies\", \"Net Consultants\", \"Boston Consulting Group\", \"McGraw Hill Financial\", \"A9.com\", \"Scientific Games\", \"SOSi\", \"Simple\", \"Genesis10\", \"Coursera\", \"Acro Service Corporation\", \"Vistronix\", \"Spokeo\", \"Overstock.com\", \"Quid\", \"Oportun\", \"DreamWorks Animation\", \"Cognilytics\", \"Samsung Group\", \"Capital Markets Placement\", \"Chegg Inc.\", \"Air Liquide US\", \"Shorewise Consulting\", \"Anomali\", \"Kabbage\", \"Persio\", \"Target\", \"Trulia\", \"Equinix, Inc.\", \"AstraZeneca Pharmaceuticals LP\", \"Scribd\", \"Boutique Marketing Firm\", \"Glassdoor\", \"Medical Center of Central Georgia\", \"3.5\", \"4.1\", \"Cambridge, MA\", \"San Francisco, CA\", \"Divensi Inc\", \"OSI Engineering\", \"CoreLogic\", \"Stride Search\", \"Beepi\", \"Eyeview\", \"EMC\", \"CN\", \"Amplify\", \"Ford Motor Company\", \"Consumer Banking\", \"eatsa\", \"Kohl's\", \"Verisk Analytics\", \"Bonobos\", \"Stitch Fix\", \"PR Hacker\", \"Eisai\", \"Global Technical Talent\", \"4.5\", \"E-SolutionsInc\", \"Memorial Healthcare System\", \"Rainforest QA\", \"AirMap\", \"Saatchi & Saatchi LA\", \"TapInfluence\", \"Intent Media\", \"MLB\", \"Twitter\", \"NSI\", \"Markel\", \"The Rockland Trust Company\", \"Unity Technologies\", \"Diageo\", \"General Motors\", \"CBS Outdoor\", \"San Jose, CA\", \"DRW Trading Group\", \"Netflix\", \"5.0\", \"Rockstar San Diego\", \"Felixsoft IT Consultancy\", \"Allstate Northern Ireland\", \"FibroGen, Inc.\", \"Voxpro Communications\", \"Glocomms\", \"Johnson Controls\", \"Adept Solutions\", \"IBM\", \"Context Relevant\", \"American Cybersystems, Inc. (ACS Group)\", \"addastaff\", \"Savi Technology\", \"Boomerang Commerce\", \"AT&T\", \"ZirMed Inc\", \"Pymetrics\", \"Trunk Club\", \"6Sense\", \"RMS Computer Corporation\", \"International Rectifier\", \"ZEFR\", \"EmergiTel Inc.\", \"Credit Karma\", \"Intuit\", \"EBay\", \"Gilt Groupe\", \"CGI\", \"Tempus\", \"Pinnacle Career\", \"Dominion Enterprises\", \"5.0\", \"Sotera Defense Solutions\", \"Farmers Insurance Group\", \"KellyMitchell Group\", \"Reinsurance Group of America\", \"Harvard Pilgrim Health Care\", \"OpenTable\", \"2.9\", \"Wayfair\", \"Leading Energy Company\", \"Merck and Co.\", \"Rinalytics Advisors Pvt. Ltd.\", \"Prudential\", \"Fast Switch\", \"3.0\", \"Capco\", \"Viacom\", \"NIIT Technologies\", \"Health Catalyst\", \"SAP\", \"Deals4Meals.com\", \"Teema\", \"Coupang\", \"Tesla Motors\", \"Cox Automotive\", \"BCG Digital Ventures\", \"Liberty Mutual\", \"San Francisco, CA\", \"Freedom Financial Network\", \"Uber\", \"Better Outcomes\", \"BlueSkyClarity\", \"MSX International\", \"Affirm\", \"XLS\", \"BVP\", \"Jornaya\", \"FM Global\", \"PowerAdvocate\", \"WeWork\", \"4.7\", \"LoyaltyOne\", \"Symantec Corporation\", \"Socure\", \"iProspect\", \"Compel Systems\", \"Comrise\", \"Sunrise Systems Inc\", \"Oshkosh Corporation\", \"Dia&Co\", \"Jet\", \"Accenture Inc\", \"Sentient\", \"Adobe Systems, Inc.\", \"Google\", \"Futurenet Group\", \"Fabergent USA\", \"Utilidata\", \"Market Resource Partners\", \"Womply\", \"iSystems Group, inc.\", \"Beverly Hills, CA\", \"i360\", \"Britech Group, Inc\", \"HealthTap\", \"Freedom Debt Relief\", \"MarketShare\", \"Experian\", \"DBRS\", \"Robert Half Technology\", \"Oportun (formerly Progreso Financiero)\", \"Photon Infotech\", \"Johns Hopkins University\", \"2.9\", \"American Student Assistance\", \"Plan International Canada\", \"Adept Solutions\", \"Rockstar New York\", \"Leading Financial Services Firm\", \"Vettery\", \"VigLink\", \"CACI International Inc\", \"Cyber Security Startup In Mountain View, CA, USA\", \"Aetna\", \"Penguin Random House\", \"Whisper\", \"Showpad\", \"Allstate\", \"TalTeam Inc\", \"Tribune Publishing\", \"Conviva\", \"2.0\", \"Shutterstock\", \"AmeriHome Mortgage Company\", \"Perella Weinber Partners\", \"5.0\", \"Philips Lighting\", \"Assurant\", \"Electronic Arts\", \"Major League Baseball\", \"TouchCommerce\", \"FIS\", \"Commonwealth Computer Research, Inc.\", \"PCO Innovation\", \"Asymmetrik\", \"Centerfield Media\", \"Walmart eCommerce\", \"Salesforce\", \"iRhythm\", \"Tronc, Inc.\", \"Apple\", \"Sinclair Broadcast Group, Inc.\", \"GroupM\", \"CA Technologies\", \"Boston Scientific\", \"Isaacson Search Company\", \"Network for Good\", \"Houzz\", \"Sedgwick Claims Management Services Inc\", \"eclaro\", \"Macy's\", \"Foundation Medicine\", \"Pandera Systems\", \"Contently\", \"Spotify\", \"Xchange Software\", \"P&L Strategies\", \"Twitch\", \"Grand Rounds\", \"Brunswick\", \"Social Radar\", \"Pangea Universal Holdings\", \"Placement Services USA, Inc.\", \"Averity\", \"GE Power\", \"Mountain View, CA\", \"CitiMortgage\", \"PlaceIQ\", \"SanDisk\", \"Intrexon\", \"Amazon\", \"Allstate Corporate Hiring\", \"Horizon Blue Cross Blue Shield\", \"EMC Me\", \"Stanford Hospital & Clinics\", \"GateHouse Media, Inc\", \"San Francisco, CA\", \"Berico Technologies\", \"University of Southern California\", \"Capital Group\", \"SOLTECH Inc\", \"PRO Unlimited\", \"Vantiv, LLC\", \"Redolent, Inc\", \"Spectraforce Technologies Inc\", \"TE Connectivity\", \"Movable Ink\", \"Vertex Pharmaceuticals\", \"Quadrant\", \"3.3\", \"Boston, MA\", \"Sojern\", \"HookLogic\", \"Citibank\", \"MoTek Technologies\", \"Mindlance\", \"ExecuNet\", \"ZestFinance\", \"ASG\", \"General Electric\", \"ThousandEyes\", \"Rocket Industrial\", \"GE\", \"Comcast\", \"Skype\", \"Marin Software\", \"Centro\", \"KEYW Corporation\", \"PRA Health Sciences\", \"ASG Renaissance\", \"Hulu\", \"ASML\", \"InterMedia Group of Companies\", \"Freedom Partners Shared Services\", \"Stanford School of Medicine\", \"1000mercis Group\", \"Randstad US\", \"Talkwalker\", \"JW Player\", \"Extremely Stable Firm, Recession Resistant, Niche Industry\", \"Nielsen\", \"Simple Finance\", \"Quora, Inc.\", \"Praxis Engineering\", \"thredUP\", \"Sigmaways\", \"NextGen Information Services, Inc\", \"Intersys\", \"JetSmarter\", \"UnitedHealth Group\", \"MECLABS\", \"benvia\", \"PulsePoint\", \"GE Digital\", \"J.P. Morgan\", \"5.0\", \"Celmatix\", \"Square\", \"McKinley Marketing Partners\", \"Opera Mediaworks\", \"Tessella Inc.\", \"ExactTarget Marketing Cloud\", \"Dtex Systems\", \"University of Chicago\", \"Citi\", \"Aequor Healthcare Services\", \"Tumblr\", \"Oracle\", \"EY\", \"Apptopia\", \"Vungle\", \"Coach\", \"Charter Global\", \"SoundCloud\", \"Xaxis\", \"Metabiota\", \"Cengage Learning\", \"Lowell, MA\", \"Verizon Wireless\", \"True Fit\", \"TriHealth\", \"Akamai\", \"Zions Bank\", \"IHS Markit\", \"Razorfish\", \"Verve Mobile\", \"Comrise Inc.\", \"Grammarly\", \"CVS Health\", \"Premise\", \"RiverRock Network\", \"3.0\", \"Vertical Mass\", \"Markit On Demand\", \"Smith Hanley Associates\", \"Color Genomics\", \"Lockheed Martin\", \"Latitude, Inc.\", \"CIA\", \"AlixPartners\", \"Valence Health\", \"True North Consulting\", \"Mezi\", \"Airbnb\", \"SAP Business Objects\", \"Poshmark\", \"Trivergance, LLC\", \"Accenture\", \"Shyft\", \"Kahuna\", \"Spring\", \"Soliant Health\", \"Docusign\", \"4.5\", \"KGS\", \"Ibiztek Solutions\", \"Dentsu Aegis Network\", \"1.0\", \"Shopping.com\", \"Madison, WI\", \"Paperless Post\", \"Polaris Industries\", \"General Assembly\", \"Ecova\", \"Expedia\", \"AOL\", \"Komodo Health\", \"Laboratory Corporation of America\", \"Pacific Biosciences\", \"ReqRoute,Inc\", \"MICROS Systems\", \"Axelon, Inc.\", \"Facebook\", \"BigR\", \"Xerox\", \"5.0\", \"Sony Interactive Entertainment PlayStation\", \"Chase\", \"Integral Ad Science\", \"Mizuho Corporate Bank\", \"Fanatics\", \"Gallup\", \"Nvidia\", \"Novartis Institutes for BioMedical Research\", \"Chango\", \"Rule14\", \"4.0\", \"MLB Advanced Media\", \"Rapid7\", \"3.2\", \"Caerus Associates\", \"Esurance\", \"The Big Game Hunter\", \"AIG\", \"Metascale\", \"Xavient Information Systems\", \"Factset\", \"Space Exploration Technologies\", \"Airbnb, Inc.\", \"Citigroup\", \"GrubHub\", \"Macy's Retail\", \"Drawbridge\", \"GE Renewable Energy\", \"SMECO\", \"Kixeye\", \"G-TECH Services, Inc.\", \"Hanover Insurance\", \"Castlight Health\", \"Tuft & Needle\", \"Microsoft\", \"New York, NY\", \"McKesson\", \"Johns Hopkins Health Care\", \"Collabera\", \"San Carlos, CA\", \"Penguin Random House US\", \"United States\", \"Monsanto\", \"TechUSA\", \"Software Guidance & Assistance\", \"Santen Inc\", \"Cimation\", \"The Select Group\", \"Johns Hopkins University Applied Physics Laboratory\", \"Micron\", \"Gemological Institute of America, Inc.\", \"Coffee Meets Bagel\", \"Zillow\", \"Wodify\", \"ID.me\", \"Verve\", \"Synaptein Solutions\", \"Brocade Communications\", \"Skillshare\", \"5.0\", \"The Chronicle of Higher Education Sub\", \"Silicus Technologies\", \"YP\", \"Brain Resource\", \"MakerBot\", \"Verizon\", \"Magnetic\", \"Capital One\", \"Beachbody\", \"Fullpower Technologies, Inc.\", \"Compunnel\", \"United Technologies\", \"Analytic Partners\", \"ForeScout\", \"Dell\", \"Unilever\", \"State Farm\"], \"type\": \"bar\"}], {\"yaxis\": {\"title\": \"Number of posts\"}, \"title\": \"Top 20 employers in Glassdoor\"}, {\"linkText\": \"Export to plot.ly\", \"showLink\": true})});</script>"
      ],
      "text/plain": [
       "<IPython.core.display.HTML object>"
      ]
     },
     "metadata": {},
     "output_type": "display_data"
    }
   ],
   "source": [
    "data = [Bar(\n",
    "            x=company,\n",
    "            y=company_frame.NumPostings\n",
    "    )]\n",
    "layout = Layout(yaxis = dict(title = \"Number of posts\"), title = 'Top 20 employers in Glassdoor')\n",
    "fig = Figure(data=data, layout=layout)\n",
    "iplot(fig,filename='basic-bar')"
   ]
  },
  {
   "cell_type": "code",
   "execution_count": 15,
   "metadata": {
    "collapsed": false,
    "slideshow": {
     "slide_type": "skip"
    }
   },
   "outputs": [],
   "source": [
    "# Calculate other analytics\n",
    "skill_frame, edu_frame, lang_frame = skills_info(completeDict)\n",
    "skill = skill_frame.sort_values(by='NumPostings', ascending = False)\n"
   ]
  },
  {
   "cell_type": "code",
   "execution_count": 16,
   "metadata": {
    "collapsed": false,
    "nbpresent": {
     "id": "e5139fc7-c892-4465-b655-bf4238c0bb64"
    },
    "slideshow": {
     "slide_type": "slide"
    }
   },
   "outputs": [
    {
     "data": {
      "text/html": [
       "<div id=\"b7f8b0fb-b395-4ba4-9797-308108e83e10\" style=\"height: 525px; width: 100%;\" class=\"plotly-graph-div\"></div><script type=\"text/javascript\">require([\"plotly\"], function(Plotly) { window.PLOTLYENV=window.PLOTLYENV || {};window.PLOTLYENV.BASE_URL=\"https://plot.ly\";Plotly.newPlot(\"b7f8b0fb-b395-4ba4-9797-308108e83e10\", [{\"y\": [591, 576, 425, 357, 271, 245, 204, 177, 151, 132, 123, 105, 105, 102, 99, 98, 96, 75, 53, 41, 38, 37, 35, 33, 32, 26, 22, 20, 16, 13, 10, 6, 5, 2, 2], \"x\": [\"Python\", \"R\", \"SQL\", \"Hadoop\", \"Java\", \"SAS\", \"Spark\", \"Hive\", \"Matlab\", \"C++\", \"Tableau\", \"Excel\", \"Scala\", \"Pig\", \"NoSQL\", \"MapReduce\", \"SPSS\", \"Perl\", \"Ruby\", \"HBase\", \"AWS\", \"Cassandra\", \"JavaScript\", \"D3\", \"Mahout\", \"MongoDB\", \"Julia\", \"Php\", \"D3.js\", \"Shark\", \"Azure\", \"Flume\", \"Mathematica\", \"Oozie\", \"ZooKeeper\"], \"type\": \"bar\"}], {\"yaxis\": {\"title\": \"Number of posts\"}, \"title\": \"Top skills for Data Scientists\"}, {\"linkText\": \"Export to plot.ly\", \"showLink\": true})});</script>"
      ],
      "text/plain": [
       "<IPython.core.display.HTML object>"
      ]
     },
     "metadata": {},
     "output_type": "display_data"
    }
   ],
   "source": [
    "data = [Bar(\n",
    "            x=skill.Term,\n",
    "            y=skill.NumPostings\n",
    "    )]\n",
    "layout = Layout(yaxis = dict(title = \"Number of posts\"), title = 'Top skills for Data Scientists')\n",
    "fig = Figure(data=data, layout=layout)\n",
    "iplot(fig, filename='basic-bar')"
   ]
  },
  {
   "cell_type": "code",
   "execution_count": 18,
   "metadata": {
    "collapsed": false
   },
   "outputs": [
    {
     "data": {
      "text/html": [
       "<div id=\"4db2252c-b0dc-4343-9e5e-63a9aa4a8d5c\" style=\"height: 525px; width: 100%;\" class=\"plotly-graph-div\"></div><script type=\"text/javascript\">require([\"plotly\"], function(Plotly) { window.PLOTLYENV=window.PLOTLYENV || {};window.PLOTLYENV.BASE_URL=\"https://plot.ly\";Plotly.newPlot(\"4db2252c-b0dc-4343-9e5e-63a9aa4a8d5c\", [{\"y\": [64, 95, 15, 262], \"x\": [\"Bachelor\", \"Master\", \"MBA\", \"PhD\"], \"type\": \"bar\"}], {\"yaxis\": {\"title\": \"Number of posts\"}, \"title\": \"Required/preferred education for a Data Scientist\"}, {\"linkText\": \"Export to plot.ly\", \"showLink\": true})});</script>"
      ],
      "text/plain": [
       "<IPython.core.display.HTML object>"
      ]
     },
     "metadata": {},
     "output_type": "display_data"
    }
   ],
   "source": [
    "data = [Bar(\n",
    "            x=edu_frame.Term,\n",
    "            y=edu_frame.NumPostings\n",
    "    )]\n",
    "layout = Layout(yaxis = dict(title = \"Number of posts\"), title = 'Required/preferred education for a Data Scientist')\n",
    "fig = Figure(data=data, layout=layout)\n",
    "iplot(fig, filename='basic-bar')"
   ]
  },
  {
   "cell_type": "markdown",
   "metadata": {},
   "source": [
    "# Measuring similarity between CV and Job posting\n",
    "- Both are unstructured text. They can be redefined as lists of keywords, according to a pre-existing dictionary;\n",
    "- Using the Jiccard similarity measure, defined as the ratio of common categorical features and the total number of features (i.e intersection(A,B)/union(A,B))"
   ]
  },
  {
   "cell_type": "code",
   "execution_count": 8,
   "metadata": {
    "collapsed": false,
    "slideshow": {
     "slide_type": "skip"
    }
   },
   "outputs": [],
   "source": [
    "# 7- Find your match!\n",
    "\n",
    "Diego = ['Data Scientist', 'PhD','French','Python','R','Matlab','Spark','SQL','Physics']\n",
    "Linlin = ['Statistics','Python','R','Matlab','SQL', 'French','STATA','Economics','Master','Excel']\n",
    "Sam = ['Python','R','Hadoop','SQL', 'Java', 'Javascript', 'Master', 'Excel','German']\n",
    "Amy = ['Python','R','SQL', 'Bachelor', 'Excel','German','C++', 'SAS', 'Statistics']\n",
    "# first parse the CV\n",
    "DiegoCV = [item.lower() for item in Diego]\n",
    "linlinCV = [item.lower() for item in Linlin]\n",
    "SamCV = [item.lower() for item in Sam]\n",
    "AmyCV = [item.lower() for item in Amy]\n",
    "\n",
    "BestMatch = get_match(AmyCV,finalDict)    \n",
    "\n"
   ]
  },
  {
   "cell_type": "code",
   "execution_count": 12,
   "metadata": {
    "collapsed": false,
    "nbpresent": {
     "id": "d8525a9c-7bad-45d7-a63e-b636e7e8936e"
    },
    "slideshow": {
     "slide_type": "slide"
    }
   },
   "outputs": [
    {
     "name": "stdout",
     "output_type": "stream",
     "text": [
      "The top 5 companies matching my CV are:\n",
      "             Id                                 Company           Location  \\\n",
      "835  1886821278                              Home Depot        Atlanta, GA   \n",
      "791  1924978071                          PCO Innovation       New York, NY   \n",
      "48   1876919434                                    DBRS       New York, NY   \n",
      "721  1849152045                          Liberty Mutual         Boston, MA   \n",
      "123  1910294624                        Truth Initiative     Washington, DC   \n",
      "573  1920913211                               Rover.com        Seattle, WA   \n",
      "304  1895317223  Gemological Institute of America, Inc.       New York, NY   \n",
      "867  1882318194                                 Nielsen  San Francisco, CA   \n",
      "831  1836557681                            AlixPartners         Boston, MA   \n",
      "440  1884200296                             J.P. Morgan       New York, NY   \n",
      "\n",
      "     Similarity  \n",
      "835    0.700000  \n",
      "791    0.600000  \n",
      "48     0.600000  \n",
      "721    0.600000  \n",
      "123    0.600000  \n",
      "573    0.600000  \n",
      "304    0.555556  \n",
      "867    0.545455  \n",
      "831    0.545455  \n",
      "440    0.538462  \n"
     ]
    }
   ],
   "source": [
    "\n",
    "print 'The top 5 companies matching my CV are:' \n",
    "print  BestMatch.head(10)\n"
   ]
  },
  {
   "cell_type": "code",
   "execution_count": 17,
   "metadata": {
    "collapsed": false,
    "slideshow": {
     "slide_type": "slide"
    }
   },
   "outputs": [],
   "source": [
    "# Well, I do not believe it. What was matched?\n",
    "tmp = finalDict[BestMatch.iloc[8,0]][5]"
   ]
  },
  {
   "cell_type": "code",
   "execution_count": 16,
   "metadata": {
    "collapsed": false
   },
   "outputs": [
    {
     "data": {
      "text/html": [
       "<a href=https://www.glassdoor.com/partner/jobListing.htm?pos=809&ao=134589&s=58&guid=0000015681699236a03a4ce930be73de&src=GD_JOB_AD&t=SR&extid=1&exst=OL&ist=&ast=OL&vt=w&slr=true&rtp=0&cb=1471049995837&jobListingId=1882318194> Check your next job!</a>"
      ],
      "text/plain": [
       "<IPython.core.display.HTML object>"
      ]
     },
     "execution_count": 16,
     "metadata": {},
     "output_type": "execute_result"
    }
   ],
   "source": [
    "# Or check the website\n",
    "GlassDoor = finalDict[BestMatch.iloc[7,0]][4].encode('ascii')\n",
    "HTML('<a href='+ GlassDoor + '> Check your next job!</a>')"
   ]
  },
  {
   "cell_type": "markdown",
   "metadata": {
    "collapsed": false,
    "nbpresent": {
     "id": "db55eeb6-8d2d-4532-8732-84f42e216ced"
    },
    "slideshow": {
     "slide_type": "slide"
    }
   },
   "source": [
    "# Coming Next:\n",
    "- Scraping/parsing a CV from Linkedin and find the best match with the (updated) job list\n",
    "- Improve the parsing to extract years of experience and more complicated keywords.\n",
    "- Avoid CAPTCHA messages?"
   ]
  },
  {
   "cell_type": "code",
   "execution_count": null,
   "metadata": {
    "collapsed": true
   },
   "outputs": [],
   "source": []
  },
  {
   "cell_type": "code",
   "execution_count": null,
   "metadata": {
    "collapsed": true,
    "nbpresent": {
     "id": "3d518079-306f-431c-bb45-12f101af78ef"
    }
   },
   "outputs": [],
   "source": []
  }
 ],
 "metadata": {
  "anaconda-cloud": {},
  "celltoolbar": "Slideshow",
  "kernelspec": {
   "display_name": "Python [Root]",
   "language": "python",
   "name": "Python [Root]"
  },
  "language_info": {
   "codemirror_mode": {
    "name": "ipython",
    "version": 2
   },
   "file_extension": ".py",
   "mimetype": "text/x-python",
   "name": "python",
   "nbconvert_exporter": "python",
   "pygments_lexer": "ipython2",
   "version": "2.7.12"
  },
  "nbpresent": {
   "slides": {
    "5369c472-13d8-4d82-96bd-2a12d02045ee": {
     "id": "5369c472-13d8-4d82-96bd-2a12d02045ee",
     "layout": "manual",
     "prev": "6def3ee9-78aa-4781-ad25-f180f8f5a7f7",
     "regions": {
      "38c87f7e-f011-4922-ba72-4dfd02f5fe3e": {
       "attrs": {
        "height": 1,
        "pad": 0.01,
        "treemap:weight": 1,
        "width": 0.8246392896781354,
        "x": 0.07436182019977802,
        "y": 0.003946232581082748
       },
       "content": {
        "cell": "8dc217b3-b017-4e01-90e0-fc76632fa77a",
        "part": "whole"
       },
       "id": "38c87f7e-f011-4922-ba72-4dfd02f5fe3e"
      }
     }
    },
    "5d7b39ff-6c10-49fb-9b0d-ce9ab1b2ba61": {
     "id": "5d7b39ff-6c10-49fb-9b0d-ce9ab1b2ba61",
     "prev": "d272c31a-4e46-4e97-abf2-14f87bbb8984",
     "regions": {
      "f5f093ff-5891-4187-a34d-526422ad5e15": {
       "attrs": {
        "height": 1,
        "width": 1,
        "x": 0,
        "y": 0
       },
       "content": {
        "cell": "e5139fc7-c892-4465-b655-bf4238c0bb64",
        "part": "outputs"
       },
       "id": "f5f093ff-5891-4187-a34d-526422ad5e15"
      }
     }
    },
    "60a4c33c-63e8-498c-90bf-34c226347e3a": {
     "id": "60a4c33c-63e8-498c-90bf-34c226347e3a",
     "prev": "e4844126-e604-41cf-b47c-7a2d1fcfd842",
     "regions": {
      "4523a2eb-53ec-4feb-b4d4-1561eb6e1c94": {
       "attrs": {
        "height": 1,
        "width": 1,
        "x": 0,
        "y": 0
       },
       "content": {
        "cell": "88a4e5ca-53ba-4773-bae8-0c49b9dec759",
        "part": "outputs"
       },
       "id": "4523a2eb-53ec-4feb-b4d4-1561eb6e1c94"
      }
     }
    },
    "6def3ee9-78aa-4781-ad25-f180f8f5a7f7": {
     "id": "6def3ee9-78aa-4781-ad25-f180f8f5a7f7",
     "prev": "5d7b39ff-6c10-49fb-9b0d-ce9ab1b2ba61",
     "regions": {
      "a8a36a59-b482-45c6-b0f4-d1da61403c84": {
       "attrs": {
        "height": 1,
        "width": 1,
        "x": 0,
        "y": 0
       },
       "content": {
        "cell": "d8525a9c-7bad-45d7-a63e-b636e7e8936e",
        "part": "whole"
       },
       "id": "a8a36a59-b482-45c6-b0f4-d1da61403c84"
      }
     }
    },
    "d272c31a-4e46-4e97-abf2-14f87bbb8984": {
     "id": "d272c31a-4e46-4e97-abf2-14f87bbb8984",
     "prev": "f7053867-e584-46c9-8bff-d4b22012a6b3",
     "regions": {
      "cfda6f20-32d9-47a6-9fce-6666649a1ec3": {
       "attrs": {
        "height": 1,
        "width": 1,
        "x": 0,
        "y": 0
       },
       "content": {
        "cell": "c39a77ca-416d-4a8f-8bc9-a379d87c7ba5",
        "part": "outputs"
       },
       "id": "cfda6f20-32d9-47a6-9fce-6666649a1ec3"
      }
     }
    },
    "e4844126-e604-41cf-b47c-7a2d1fcfd842": {
     "id": "e4844126-e604-41cf-b47c-7a2d1fcfd842",
     "prev": "5369c472-13d8-4d82-96bd-2a12d02045ee",
     "regions": {
      "a4ee0c74-da96-488f-82d2-c5808cd1c453": {
       "attrs": {
        "height": 1,
        "width": 1,
        "x": 0,
        "y": 0
       },
       "content": {
        "cell": "db55eeb6-8d2d-4532-8732-84f42e216ced",
        "part": "whole"
       },
       "id": "a4ee0c74-da96-488f-82d2-c5808cd1c453"
      }
     }
    },
    "f7053867-e584-46c9-8bff-d4b22012a6b3": {
     "id": "f7053867-e584-46c9-8bff-d4b22012a6b3",
     "layout": "grid",
     "prev": null,
     "regions": {
      "d11841f8-fa27-4b89-8985-cdc335052bdd": {
       "attrs": {
        "height": 1,
        "pad": 0.01,
        "treemap:weight": 1,
        "width": 1,
        "x": 0,
        "y": 0
       },
       "content": {
        "cell": "e71fce56-6a23-4ac7-9eaf-27d9b62be586",
        "part": "whole"
       },
       "id": "d11841f8-fa27-4b89-8985-cdc335052bdd"
      }
     },
     "theme": null
    }
   },
   "themes": {
    "default": "dfffebff-b250-46cb-b7a4-77a2244b62df",
    "theme": {
     "3e9eaa0a-3f64-4102-b628-8cf2db3d2231": {
      "backgrounds": {
       "backgroundColor": {
        "background-color": "backgroundColor",
        "id": "backgroundColor"
       }
      },
      "id": "3e9eaa0a-3f64-4102-b628-8cf2db3d2231",
      "palette": {
       "backgroundColor": {
        "id": "backgroundColor",
        "rgb": [
         34,
         34,
         34
        ]
       },
       "headingColor": {
        "id": "headingColor",
        "rgb": [
         238,
         238,
         238
        ]
       },
       "linkColor": {
        "id": "linkColor",
        "rgb": [
         170,
         34,
         51
        ]
       },
       "mainColor": {
        "id": "mainColor",
        "rgb": [
         238,
         238,
         238
        ]
       }
      },
      "rules": {
       "a": {
        "color": "linkColor"
       },
       "h1": {
        "color": "headingColor",
        "font-family": "Ubuntu",
        "font-size": 7
       },
       "h2": {
        "color": "headingColor",
        "font-family": "Ubuntu",
        "font-size": 5
       },
       "h3": {
        "color": "headingColor",
        "font-family": "Ubuntu",
        "font-size": 3.75
       },
       "h4": {
        "color": "headingColor",
        "font-family": "Ubuntu",
        "font-size": 3
       },
       "h5": {
        "color": "headingColor",
        "font-family": "Ubuntu"
       },
       "h6": {
        "color": "headingColor",
        "font-family": "Ubuntu"
       },
       "h7": {
        "color": "headingColor",
        "font-family": "Ubuntu"
       },
       "li": {
        "color": "mainColor",
        "font-family": "Ubuntu",
        "font-size": 5
       },
       "p": {
        "color": "mainColor",
        "font-family": "Ubuntu",
        "font-size": 5
       }
      },
      "text-base": {
       "color": "mainColor",
       "font-family": "Ubuntu",
       "font-size": 5
      }
     },
     "dfffebff-b250-46cb-b7a4-77a2244b62df": {
      "backgrounds": {
       "dc7afa04-bf90-40b1-82a5-726e3cff5267": {
        "background-color": "31af15d2-7e15-44c5-ab5e-e04b16a89eff",
        "id": "dc7afa04-bf90-40b1-82a5-726e3cff5267"
       }
      },
      "id": "dfffebff-b250-46cb-b7a4-77a2244b62df",
      "palette": {
       "19cc588f-0593-49c9-9f4b-e4d7cc113b1c": {
        "id": "19cc588f-0593-49c9-9f4b-e4d7cc113b1c",
        "rgb": [
         252,
         252,
         252
        ]
       },
       "31af15d2-7e15-44c5-ab5e-e04b16a89eff": {
        "id": "31af15d2-7e15-44c5-ab5e-e04b16a89eff",
        "rgb": [
         68,
         68,
         68
        ]
       },
       "50f92c45-a630-455b-aec3-788680ec7410": {
        "id": "50f92c45-a630-455b-aec3-788680ec7410",
        "rgb": [
         197,
         226,
         245
        ]
       },
       "c5cc3653-2ee1-402a-aba2-7caae1da4f6c": {
        "id": "c5cc3653-2ee1-402a-aba2-7caae1da4f6c",
        "rgb": [
         43,
         126,
         184
        ]
       },
       "efa7f048-9acb-414c-8b04-a26811511a21": {
        "id": "efa7f048-9acb-414c-8b04-a26811511a21",
        "rgb": [
         25.118061674008803,
         73.60176211453744,
         107.4819383259912
        ]
       }
      },
      "rules": {
       "a": {
        "color": "19cc588f-0593-49c9-9f4b-e4d7cc113b1c"
       },
       "blockquote": {
        "color": "50f92c45-a630-455b-aec3-788680ec7410",
        "font-size": 3
       },
       "code": {
        "font-family": "Anonymous Pro"
       },
       "h1": {
        "color": "19cc588f-0593-49c9-9f4b-e4d7cc113b1c",
        "font-family": "Merriweather",
        "font-size": 8
       },
       "h2": {
        "color": "19cc588f-0593-49c9-9f4b-e4d7cc113b1c",
        "font-family": "Merriweather",
        "font-size": 6
       },
       "h3": {
        "color": "50f92c45-a630-455b-aec3-788680ec7410",
        "font-family": "Lato",
        "font-size": 5.5
       },
       "h4": {
        "color": "c5cc3653-2ee1-402a-aba2-7caae1da4f6c",
        "font-family": "Lato",
        "font-size": 5
       },
       "h5": {
        "font-family": "Lato"
       },
       "h6": {
        "font-family": "Lato"
       },
       "h7": {
        "font-family": "Lato"
       },
       "li": {
        "color": "50f92c45-a630-455b-aec3-788680ec7410",
        "font-size": 3.25
       },
       "pre": {
        "font-family": "Anonymous Pro",
        "font-size": 4
       }
      },
      "text-base": {
       "color": "19cc588f-0593-49c9-9f4b-e4d7cc113b1c",
       "font-family": "Lato",
       "font-size": 4
      }
     }
    }
   }
  }
 },
 "nbformat": 4,
 "nbformat_minor": 0
}
